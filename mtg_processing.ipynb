{
 "cells": [
  {
   "cell_type": "code",
   "execution_count": null,
   "id": "7e30661d-8bdd-4ac3-8aa9-7fac9789e973",
   "metadata": {},
   "outputs": [],
   "source": [
    "from tqdm.notebook import tqdm\n",
    "import pandas as pd\n",
    "from pathlib import Path\n",
    "from transformers import GPT2Tokenizer\n",
    "import numpy as np\n",
    "import functools\n",
    "import requests\n",
    "import json\n",
    "pd.set_option('display.max_columns', None)  # or 1000\n",
    "pd.set_option('display.max_colwidth', None)  # or 199"
   ]
  },
  {
   "cell_type": "code",
   "execution_count": null,
   "id": "f1097723-133c-4cd2-aa83-4ef625ee51fa",
   "metadata": {},
   "outputs": [],
   "source": [
    "from mtg_ai import MTGColorCombo, MTG_STANDARD_COLOR_ORDER\n",
    "from mtg_ai import data_processing\n",
    "from mtg_combos import Combos\n",
    "combos = Combos()"
   ]
  },
  {
   "cell_type": "code",
   "execution_count": null,
   "id": "31965a82-72ca-42f7-a338-c93dd76158c4",
   "metadata": {},
   "outputs": [],
   "source": [
    "# from tqdm.auto import tqdm\n",
    "tqdm.pandas()"
   ]
  },
  {
   "cell_type": "code",
   "execution_count": null,
   "id": "25bbd50d-eac6-4e74-9082-08a8eaba9526",
   "metadata": {},
   "outputs": [],
   "source": [
    "\n",
    "drop_columns = [\n",
    "    \"life_modifier\",\n",
    "    \"hand_modifier\",\n",
    "    \"attraction_lights\",\n",
    "    \"object\",\n",
    "    \"multiverse_ids\",\n",
    "    \"mtgo_id\",\n",
    "    \"mtgo_foil_id\",\n",
    "    \"tcgplayer_id\",\n",
    "    \"cardmarket_id\",\n",
    "    \"uri\",\n",
    "    \"scryfall_uri\",\n",
    "    \"highres_image\",\n",
    "    \"image_status\",\n",
    "    \"image_uris\",\n",
    "    \"reserved\",\n",
    "    \"foil\",\n",
    "    \"nonfoil\",\n",
    "    \"finishes\",\n",
    "    \"oversized\",\n",
    "    \"promo\",\n",
    "    \"reprint\",\n",
    "    \"variation\",\n",
    "    \"set_uri\",\n",
    "    \"set_search_uri\",\n",
    "    \"scryfall_set_uri\",\n",
    "    \"prints_search_uri\",\n",
    "    \"flavor_text\",\n",
    "    \"artist_ids\",\n",
    "    \"illustration_id\",\n",
    "    \"border_color\",\n",
    "    \"frame\",\n",
    "    \"textless\",\n",
    "    \"booster\",\n",
    "    \"story_spotlight\",\n",
    "    \"related_uris\",\n",
    "    \"purchase_uris\",\n",
    "    \"security_stamp\",\n",
    "    \"preview\",\n",
    "    \"penny_rank\",\n",
    "    \"frame_effects\",\n",
    "    \"watermark\",\n",
    "    \"card_faces\",\n",
    "    \"tcgplayer_etched_id\",\n",
    "    \"promo_types\",\n",
    "    \"prices\",\n",
    "    \"artist\",\n",
    "    \"digital\",\n",
    "    \"games\",\n",
    "    \"set_id\",\n",
    "    \"set\",\n",
    "    \"set_name\",\n",
    "    \"collector_number\",\n",
    "    \"full_art\",\n",
    "    \"all_parts\",\n",
    "    \"arena_id\",\n",
    "    \"released_at\",\n",
    "    \"content_warning\",\n",
    "    \"card_back_id\",\n",
    "    \"lang\",\n",
    "    \"id\",\n",
    "]\n",
    "\n",
    "column_order = [\"oracle_id\", \"name\", \"rarity\", \"mana_cost\", \"cmc\", \"colors\", \"color_identity\",  \"type_line\", \"power\", \"toughness\", \"loyalty\", \"produced_mana\", \"keywords\", \"set_type\", \"oracle_text\", \"layout\", \"edhrec_rank\", \"color_indicator\",]\n",
    "\n",
    "def process():\n",
    "    mtg_data_path = Path(\"./data/oracle-cards-20231121100139.json\")\n",
    "    mtg_ruling_path = Path(\"./data/wotc_rulings.csv\")\n",
    "    rulings = pd.read_csv(mtg_ruling_path)\n",
    "    df: pd.DataFrame = pd.read_json(mtg_data_path)\n",
    "    df.drop(drop_columns, axis=1, inplace=True)\n",
    "    legalities = expand_legalities_column(df)\n",
    "    df = filter_legalities(df, legalities, \"modern\")\n",
    "    df = clean_columns(df)\n",
    "    if len(column_order) != len(df.columns):\n",
    "        raise Exception()\n",
    "    df = df.reindex(columns=column_order)\n",
    "    tokenized_df = tokenize(df)\n",
    "    df.set_index(\"oracle_id\", inplace=True)\n",
    "\n",
    "    return df, tokenized_df\n",
    "\n",
    "def _clean_empty(df, column: str, replace_value):\n",
    "    df[column].fillna(replace_value, inplace=True)\n",
    "\n",
    "def _sort_color_strings(df, column):\n",
    "    df[column] = df[column].apply(MTGColorCombo._sort_multicolor_str)\n",
    "\n",
    "def clean_columns(df):\n",
    "    df.mana_cost = df.mana_cost.str.replace(\"{\", \"\").str.replace(\"}\", \"\").str.upper()\n",
    "    _clean_empty(df, \"colors\", MTGColorCombo.COLORLESS)\n",
    "    _clean_empty(df, \"color_identity\", \"\")\n",
    "    _clean_empty(df, \"produced_mana\", \"\")\n",
    "    _clean_empty(df, \"color_indicator\", \"\")\n",
    "    _clean_empty(df, \"power\", \"<NaN>\")\n",
    "    _clean_empty(df, \"toughness\", \"<NaN>\")\n",
    "    _clean_empty(df, \"loyalty\", \"<NaN>\")\n",
    "    _clean_empty(df, \"edhrec_rank\", 0)\n",
    "    df[\"name\"] = df[\"name\"].str.casefold()\n",
    "    df[\"oracle_text\"] = df[\"oracle_text\"].str.casefold()\n",
    "    df.produced_mana = df.produced_mana.str.join(\"\")\n",
    "    df.edhrec_rank = df.edhrec_rank.astype(\"int\")\n",
    "    _sort_color_strings(df, \"colors\")\n",
    "    _sort_color_strings(df, \"color_identity\")\n",
    "    _sort_color_strings(df, \"color_indicator\")\n",
    "    _sort_color_strings(df, \"produced_mana\")\n",
    "    df = convert_types(df)\n",
    "    # df.color_identity = df.color_identity.apply(MTGColorCombo._sort_multicolor_str)\n",
    "    return df\n",
    "\n",
    "def calculate_columns(df):\n",
    "    df[\"legendary\"] = df.type_line.str.contains(\"Legendary\")\n",
    "    return df\n",
    "\n",
    "def filter_legalities(df: pd.DataFrame, legalities: pd.DataFrame, format: str = \"modern\"):\n",
    "    df = df.loc[legalities[format]].reset_index(drop=True)\n",
    "    return df\n",
    "\n",
    "def convert_types(df: pd.DataFrame):\n",
    "    df = df.astype({\"name\": \"str\", \"oracle_text\": \"str\", \"rarity\": \"str\", \"cmc\": \"int\"})\n",
    "    return df\n",
    "\n",
    "\n",
    "def expand_prices(df: pd.DataFrame):\n",
    "    prices = pd.json_normalize(df[\"prices\"])\n",
    "    return prices\n",
    "\n",
    "def expand_legalities_column(df: pd.DataFrame):\n",
    "    legalities = pd.json_normalize(df[\"legalities\"])\n",
    "    for c in legalities:\n",
    "        legalities[c] = legalities[c].apply(lambda x: True if x == \"legal\" else False)\n",
    "    df.drop(\"legalities\", axis=1, inplace=True)\n",
    "    return legalities\n",
    "\n",
    "def merge(main_df: pd.DataFrame, *dfs: pd.DataFrame):\n",
    "    for df in dfs:\n",
    "        main_df = main_df.merge(df, left_index=True, right_index=True)\n",
    "    return main_df\n",
    "\n",
    "def tokenize(df: pd.DataFrame):\n",
    "    tokenizer = GPT2Tokenizer.from_pretrained(\"gpt2\")\n",
    "    tokenized_df = pd.DataFrame()\n",
    "    tokenize_columns = [\"oracle_text\", \"name\", \"rarity\", \"type_line\", \"colors\",]\n",
    "    for column in (pbar := tqdm(tokenize_columns, desc=\"Tokenizing Columns\")):\n",
    "        pbar.set_postfix_str(f\"column: {column}\")\n",
    "        tokenized_df[column] = df[column].apply(lambda x: tokenizer.encode(x, add_special_tokens=True))\n",
    "    return tokenized_df\n",
    "\n",
    "df, tokenized_df = process()"
   ]
  },
  {
   "cell_type": "code",
   "execution_count": null,
   "id": "4663744b-c761-498b-aba8-7310747f2eb3",
   "metadata": {},
   "outputs": [],
   "source": [
    "df, tokenized_df = data_processing.process()\n"
   ]
  },
  {
   "cell_type": "code",
   "execution_count": null,
   "id": "6607a6d0-21f3-41bb-ac8d-9760b11b63ae",
   "metadata": {},
   "outputs": [],
   "source": [
    "df"
   ]
  },
  {
   "cell_type": "code",
   "execution_count": null,
   "id": "7d37dc8f-411f-4baf-9919-c2f22d99f67e",
   "metadata": {},
   "outputs": [],
   "source": [
    "def non_empty_columns(column: str):\n",
    "    return df[column].loc[df[column] != \"\"]"
   ]
  },
  {
   "cell_type": "code",
   "execution_count": null,
   "id": "97f59dee-921f-487f-a85d-5272f2aa231c",
   "metadata": {},
   "outputs": [],
   "source": [
    "non_empty_columns(\"color_indicator\")"
   ]
  },
  {
   "cell_type": "code",
   "execution_count": null,
   "id": "98cbe9fc-0cb7-40b2-aeff-c2d4cedb1045",
   "metadata": {},
   "outputs": [],
   "source": []
  },
  {
   "cell_type": "code",
   "execution_count": null,
   "id": "50d6bd60-7d2b-4f71-a629-52d0d477ca42",
   "metadata": {},
   "outputs": [],
   "source": [
    "column = \"rulings_uri\"\n",
    "df[column]"
   ]
  },
  {
   "cell_type": "code",
   "execution_count": null,
   "id": "e2fc15c8-849d-40d9-9c30-ffb8579e3d99",
   "metadata": {},
   "outputs": [],
   "source": []
  },
  {
   "cell_type": "code",
   "execution_count": null,
   "id": "34b06731-5855-4ba2-b923-cf2454f59fcc",
   "metadata": {},
   "outputs": [],
   "source": [
    "import requests\n",
    "rulings_data = []\n",
    "for url in tqdm(df.rulings_uri):\n",
    "    ruling = requests.get(url)\n",
    "    rulings_data.append(ruling.json())\n"
   ]
  },
  {
   "cell_type": "code",
   "execution_count": null,
   "id": "84d4bc00-b583-423d-a513-3060e7ea4d84",
   "metadata": {
    "scrolled": true
   },
   "outputs": [],
   "source": [
    "rulings_data"
   ]
  },
  {
   "cell_type": "code",
   "execution_count": null,
   "id": "a5586918-b0ca-4a7e-a1ec-2487b96d300f",
   "metadata": {},
   "outputs": [],
   "source": [
    "result = []\n",
    "for item in rulings_data:\n",
    "    data = item[\"data\"]\n",
    "    rules = []\n",
    "    oracle_id = \"\"\n",
    "    for ruling in data:\n",
    "        oracle_id = ruling[\"oracle_id\"]\n",
    "        rules.append(ruling[\"comment\"])\n",
    "    if not oracle_id:\n",
    "        continue\n",
    "    result.append({\"oracle_id\": oracle_id, \"rulings\": rules})"
   ]
  },
  {
   "cell_type": "code",
   "execution_count": null,
   "id": "97d8dc95-0dc5-4aed-84f3-c9c9d695176e",
   "metadata": {
    "scrolled": true
   },
   "outputs": [],
   "source": [
    "rulings_df = pd.DataFrame(result)\n",
    "rulings_df.set_index(\"oracle_id\", inplace=True)"
   ]
  },
  {
   "cell_type": "code",
   "execution_count": null,
   "id": "376ceb04-ac88-40a3-bae3-88f6398ea99c",
   "metadata": {
    "scrolled": true
   },
   "outputs": [],
   "source": [
    "output = Path(\"./data/wotc_rulings.json\")\n",
    "rulings_df.to_json(output, orient=\"columns\")"
   ]
  },
  {
   "cell_type": "code",
   "execution_count": null,
   "id": "7ad4a77e-a826-4b6b-be07-0d2f9e186076",
   "metadata": {
    "scrolled": true
   },
   "outputs": [],
   "source": [
    "df.merge(rulings_df, left_index=True, right_index=True)"
   ]
  },
  {
   "cell_type": "code",
   "execution_count": null,
   "id": "e334fb68-1b17-40d2-9107-a766b36552a8",
   "metadata": {},
   "outputs": [],
   "source": [
    "data = ruling.json()"
   ]
  },
  {
   "cell_type": "code",
   "execution_count": null,
   "id": "7938357f-f284-402e-8202-6d8b94f3b61b",
   "metadata": {},
   "outputs": [],
   "source": [
    "data"
   ]
  },
  {
   "cell_type": "code",
   "execution_count": null,
   "id": "6685ff16-17d6-4d78-895f-e078fe4ac045",
   "metadata": {},
   "outputs": [],
   "source": [
    "oracle_id = \n",
    "[i[\"comment\"] for i in data[\"data\"]]"
   ]
  },
  {
   "cell_type": "code",
   "execution_count": null,
   "id": "1b2e2822-7e9c-4a0e-8835-b3e42d676b04",
   "metadata": {},
   "outputs": [],
   "source": [
    "data"
   ]
  },
  {
   "cell_type": "code",
   "execution_count": null,
   "id": "a93aa543-9605-42ff-aa81-d4957b48b26d",
   "metadata": {},
   "outputs": [],
   "source": []
  }
 ],
 "metadata": {
  "kernelspec": {
   "display_name": "Python 3 (ipykernel)",
   "language": "python",
   "name": "python3"
  },
  "language_info": {
   "codemirror_mode": {
    "name": "ipython",
    "version": 3
   },
   "file_extension": ".py",
   "mimetype": "text/x-python",
   "name": "python",
   "nbconvert_exporter": "python",
   "pygments_lexer": "ipython3",
   "version": "3.11.5"
  }
 },
 "nbformat": 4,
 "nbformat_minor": 5
}
