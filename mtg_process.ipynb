{
 "cells": [
  {
   "cell_type": "code",
   "execution_count": 1,
   "id": "56c0e642-ec37-4017-a43c-82746e4afa0a",
   "metadata": {},
   "outputs": [],
   "source": [
    "%reload_ext mtg_ai\n",
    "import pandas as pd\n",
    "from tqdm import tqdm\n",
    "from pathlib import Path\n",
    "from mtg_ai.data import MTGCards\n",
    "from mtg_ai import constants\n",
    "from mtg_ai.training import MTGCardTraining"
   ]
  },
  {
   "cell_type": "code",
   "execution_count": null,
   "id": "e5eaca2d-c974-4022-aa0e-2539c7407b8e",
   "metadata": {},
   "outputs": [
    {
     "name": "stderr",
     "output_type": "stream",
     "text": [
      "turning rows into strings: 18136it [00:00, 58812.99it/s]\n",
      "tokenizing rows: 100%|██████████████████████████████████████████████████████████| 18136/18136 [00:10<00:00, 1735.73it/s]\n"
     ]
    },
    {
     "data": {
      "application/vnd.jupyter.widget-view+json": {
       "model_id": "f40c1b262d9446588251e7feea786639",
       "version_major": 2,
       "version_minor": 0
      },
      "text/plain": [
       "Downloading (…)model.bin.index.json:   0%|          | 0.00/23.9k [00:00<?, ?B/s]"
      ]
     },
     "metadata": {},
     "output_type": "display_data"
    },
    {
     "data": {
      "application/vnd.jupyter.widget-view+json": {
       "model_id": "169a9ed497a945f58c56b12ed5eb9206",
       "version_major": 2,
       "version_minor": 0
      },
      "text/plain": [
       "Downloading shards:   0%|          | 0/2 [00:00<?, ?it/s]"
      ]
     },
     "metadata": {},
     "output_type": "display_data"
    },
    {
     "data": {
      "application/vnd.jupyter.widget-view+json": {
       "model_id": "6bb77ee76ecd401c89df2da1e071a52a",
       "version_major": 2,
       "version_minor": 0
      },
      "text/plain": [
       "Downloading (…)l-00001-of-00002.bin:   0%|          | 0.00/9.94G [00:00<?, ?B/s]"
      ]
     },
     "metadata": {},
     "output_type": "display_data"
    },
    {
     "data": {
      "application/vnd.jupyter.widget-view+json": {
       "model_id": "55029a39453d4eb9970a58fe11a83cf2",
       "version_major": 2,
       "version_minor": 0
      },
      "text/plain": [
       "Downloading (…)l-00002-of-00002.bin:   0%|          | 0.00/5.06G [00:00<?, ?B/s]"
      ]
     },
     "metadata": {},
     "output_type": "display_data"
    }
   ],
   "source": [
    "mtg_card_ai = MTGCardTraining()\n"
   ]
  },
  {
   "cell_type": "code",
   "execution_count": null,
   "id": "ec691474-6a0c-431a-8c22-0a41f34bc419",
   "metadata": {},
   "outputs": [],
   "source": [
    "mtg_card_ai.train()"
   ]
  },
  {
   "cell_type": "code",
   "execution_count": null,
   "id": "5058faa8-e347-47ff-a6b2-76c1a7f87752",
   "metadata": {},
   "outputs": [],
   "source": [
    "import pandas as pd\n",
    "from tqdm import tqdm\n",
    "from pathlib import Path\n"
   ]
  },
  {
   "cell_type": "code",
   "execution_count": null,
   "id": "be7ef905-ea7d-41f0-8a1e-cc3da50d1ff5",
   "metadata": {
    "scrolled": true
   },
   "outputs": [],
   "source": [
    "def remove_uneeded_columns(df: pd.DataFrame):\n",
    "    df.rename(columns={\"name\": \"card_name\"}, inplace=True)\n",
    "    df = df.drop(constants.drop_columns, axis=1)\n",
    "    return df\n",
    "\n",
    "def filter_for_modern(df: pd.DataFrame):\n",
    "    legalities = pd.json_normalize(df.pop(\"legalities\"))\n",
    "    df = df.loc[legalities[\"modern\"] == \"legal\"].reset_index(drop=True)\n",
    "    return df\n",
    "\n",
    "def fill_empty_values(df: pd.DataFrame):\n",
    "    fill_values = dict.fromkeys([\"mana_cost\", \"colors\", \"color_identity\", \"produced_mana\", \"color_indicator\"], constants.NA_STRING)\n",
    "    fill_values.update(dict.fromkeys([\"power\", \"toughness\", \"loyalty\", ], constants.NAN_STRING))\n",
    "    fill_values[\"edhrec_rank\"] = 0\n",
    "    df.fillna(fill_values, inplace=True)\n",
    "    return df\n",
    "\n",
    "def merge_lists(df: pd.DataFrame):\n",
    "    df.keywords = df.keywords.str.join(\", \")\n",
    "    columns = [\"colors\", \"color_identity\", \"color_indicator\", \"produced_mana\"]\n",
    "    df[columns] = df[columns].map(lambda x: \"\".join(x))\n",
    "    return df\n",
    "\n",
    "def sort_color_strings(df: pd.DataFrame):\n",
    "    columns = [\"colors\", \"color_identity\", \"color_indicator\", \"produced_mana\"]\n",
    "    df[columns] = df[columns].map(constants.MTGColorCombo._sort_multicolor_str)\n",
    "    return df\n",
    "\n",
    "def convert_column_types(df: pd.DataFrame):\n",
    "    data = {\n",
    "        \"oracle_id\": str,\n",
    "        \"card_name\": str,\n",
    "        \"rarity\": constants.CATEGORY,\n",
    "        \"mana_cost\": constants.CATEGORY,\n",
    "        \"cmc\": float,\n",
    "        \"colors\": constants.CATEGORY,\n",
    "        \"color_identity\": constants.CATEGORY,\n",
    "        \"type_line\": str,\n",
    "        \"power\": str,\n",
    "        \"toughness\": str,\n",
    "        \"loyalty\": constants.CATEGORY,\n",
    "        \"produced_mana\": constants.CATEGORY,\n",
    "        \"set_type\": constants.CATEGORY,\n",
    "        \"oracle_text\": str,\n",
    "        \"layout\": constants.CATEGORY,\n",
    "        \"edhrec_rank\": int,\n",
    "        \"color_indicator\": constants.CATEGORY,\n",
    "    }\n",
    "    df = df.astype(data)\n",
    "    return df\n",
    "\n",
    "mtg_data_path = Path(\"./data/oracle-cards-20231121100139.json\")\n",
    "df: pd.DataFrame = (\n",
    "    pd.read_json(mtg_data_path)\n",
    "    .pipe(remove_uneeded_columns)\n",
    "    .pipe(filter_for_modern)\n",
    "    .pipe(fill_empty_values)\n",
    "    .pipe(merge_lists)\n",
    "    .pipe(sort_color_strings)\n",
    "    .pipe(convert_column_types)\n",
    ")"
   ]
  },
  {
   "cell_type": "code",
   "execution_count": null,
   "id": "73e82967-5c58-43cb-8abd-c2308d97dbf9",
   "metadata": {},
   "outputs": [],
   "source": [
    "df"
   ]
  },
  {
   "cell_type": "code",
   "execution_count": null,
   "id": "03b6fe97-8f24-40fc-b633-c34f85a4ec50",
   "metadata": {},
   "outputs": [],
   "source": [
    "df.loc[df.layout == \"flip\"]"
   ]
  },
  {
   "cell_type": "code",
   "execution_count": null,
   "id": "8241e562-490c-4210-9640-c4e7327aefc7",
   "metadata": {},
   "outputs": [],
   "source": [
    "mtg_data_path = Path(\"./data/oracle-cards-20231121100139.json\")\n",
    "df = pd.read_json(mtg_data_path)\n",
    "df.color_identity.loc[df.color_identity.notna()]"
   ]
  },
  {
   "cell_type": "code",
   "execution_count": null,
   "id": "366a676f-fe33-4836-be0b-1dc6a1707ebf",
   "metadata": {},
   "outputs": [],
   "source": [
    "df.colors.str.join(\"\")"
   ]
  },
  {
   "cell_type": "code",
   "execution_count": null,
   "id": "6392dfa8-3624-4a49-8db6-a77768d6706f",
   "metadata": {},
   "outputs": [],
   "source": [
    "df.cmc.loc[df.cmc > 10]"
   ]
  },
  {
   "cell_type": "code",
   "execution_count": null,
   "id": "c700d3ea-398d-4fa6-b2be-f1f31b4f1ec7",
   "metadata": {},
   "outputs": [],
   "source": [
    "training = MTGCardTraining(num_epochs=4)"
   ]
  },
  {
   "cell_type": "code",
   "execution_count": null,
   "id": "2bd00ea2-804d-4cfd-86b9-69f36aeb752b",
   "metadata": {},
   "outputs": [],
   "source": [
    "training.train()"
   ]
  },
  {
   "cell_type": "code",
   "execution_count": null,
   "id": "33c097f2-600c-4831-9996-d9b1a8ee00a8",
   "metadata": {},
   "outputs": [],
   "source": []
  }
 ],
 "metadata": {
  "kernelspec": {
   "display_name": "Python 3 (ipykernel)",
   "language": "python",
   "name": "python3"
  },
  "language_info": {
   "codemirror_mode": {
    "name": "ipython",
    "version": 3
   },
   "file_extension": ".py",
   "mimetype": "text/x-python",
   "name": "python",
   "nbconvert_exporter": "python",
   "pygments_lexer": "ipython3",
   "version": "3.11.5"
  }
 },
 "nbformat": 4,
 "nbformat_minor": 5
}
