{
 "cells": [
  {
   "cell_type": "code",
   "execution_count": 2,
   "metadata": {},
   "outputs": [],
   "source": [
    "%reload_ext autoreload\n",
    "%autoreload 2"
   ]
  },
  {
   "cell_type": "markdown",
   "metadata": {},
   "source": [
    "# Setup colored logging"
   ]
  },
  {
   "cell_type": "code",
   "execution_count": 3,
   "metadata": {},
   "outputs": [],
   "source": [
    "import logging\n",
    "\n",
    "import colorlog\n",
    "\n",
    "handler = colorlog.StreamHandler()\n",
    "fmt = \"%(log_color)s%(levelname)s:%(name)s:%(message)s\"\n",
    "formatter = colorlog.ColoredFormatter(\n",
    "    fmt,\n",
    "    log_colors={\n",
    "        \"DEBUG\": \"purple\",\n",
    "        \"INFO\": \"green\",\n",
    "        \"WARNING\": \"yellow\",\n",
    "        \"ERROR\": \"red\",\n",
    "        \"CRITICAL\": \"red,bg_white\",\n",
    "    },\n",
    ")\n",
    "handler.setFormatter(formatter)\n",
    "logging.basicConfig(level=logging.DEBUG, handlers=[handler])\n",
    "logger = logging.getLogger(\"mtg-ai\")\n",
    "logger.propagate = True"
   ]
  },
  {
   "cell_type": "markdown",
   "metadata": {},
   "source": [
    "# Dataset Builder"
   ]
  },
  {
   "cell_type": "code",
   "execution_count": null,
   "metadata": {},
   "outputs": [],
   "source": [
    "from mtg_ai.cards import MTGDatabase\n",
    "row = MTGDatabase()\n",
    "row.df.loc[row.df[\"name\"] == \"Ajani, Nacatl Pariah // Ajani, Nacatl Avenger\"]"
   ]
  },
  {
   "cell_type": "code",
   "execution_count": null,
   "metadata": {},
   "outputs": [],
   "source": [
    "from mtg_ai.cards.training_data_builder import build_question_answer_datasets\n",
    "\n",
    "row = MTGDatabase()\n",
    "build_question_answer_datasets(row, recreate=True)"
   ]
  },
  {
   "cell_type": "markdown",
   "metadata": {},
   "source": [
    "# Training"
   ]
  },
  {
   "cell_type": "code",
   "execution_count": null,
   "metadata": {},
   "outputs": [],
   "source": [
    "from mtg_ai.ai import ModelAndTokenizer, MTGCardAITrainer\n",
    "\n",
    "model = ModelAndTokenizer.UNSLOTH_LLAMA_3_2_3B_INSTRUCT_Q8\n",
    "\n",
    "# dataset = \"data/question_answer_dataset.csv\"\n",
    "# loader = MTGCardAITrainingDatasetLoader(dataset, model.tokenizer)\n",
    "gguf_file = None  # model.gguf_file\n",
    "ai_trainer = MTGCardAITrainer(model_name=model.value, gguf_file=gguf_file)\n",
    "\n",
    "ai_trainer.train(resume_from_checkpoint=True)"
   ]
  },
  {
   "cell_type": "markdown",
   "metadata": {},
   "source": [
    "# Combine Lora with model"
   ]
  },
  {
   "cell_type": "code",
   "execution_count": null,
   "metadata": {},
   "outputs": [],
   "source": [
    "from pathlib import Path\n",
    "\n",
    "from mtg_ai.ai import ModelAndTokenizer, save_combined_model\n",
    "\n",
    "model_name = ModelAndTokenizer.BARTOWSKI_LLAMA_3_2_8B_INSTRUCT_Q4_K_L\n",
    "model_dir = Path(\"./results\").resolve()\n",
    "\n",
    "save_combined_model(\n",
    "    model_name=model_name.value,\n",
    "    tokenizer_name=model_name.tokenizer,\n",
    "    gguf_file=model_name.gguf_file,\n",
    "    model_dir=model_dir,\n",
    ")"
   ]
  },
  {
   "cell_type": "markdown",
   "metadata": {},
   "source": [
    "# Inference"
   ]
  },
  {
   "cell_type": "code",
   "execution_count": 1,
   "metadata": {},
   "outputs": [
    {
     "name": "stdout",
     "output_type": "stream",
     "text": [
      "🦥 Unsloth: Will patch your computer to enable 2x faster free finetuning.\n",
      "==((====))==  Unsloth 2024.10.5: Fast Llama patching. Transformers = 4.46.0.dev0.\n",
      "   \\\\   /|    GPU: NVIDIA GeForce RTX 3080. Max memory: 12.0 GB. Platform = Linux.\n",
      "O^O/ \\_/ \\    Pytorch: 2.4.1. CUDA = 8.6. CUDA Toolkit = 12.1.\n",
      "\\        /    Bfloat16 = TRUE. FA [Xformers = 0.0.28.post1. FA2 = False]\n",
      " \"-____-\"     Free Apache license: http://github.com/unslothai/unsloth\n"
     ]
    },
    {
     "name": "stderr",
     "output_type": "stream",
     "text": [
      "Unsloth 2024.10.5 patched 28 layers with 28 QKV layers, 28 O layers and 28 MLP layers.\n"
     ]
    },
    {
     "data": {
      "application/vnd.jupyter.widget-view+json": {
       "model_id": "17fc3cabea3745aea26520c6904fcea7",
       "version_major": 2,
       "version_minor": 0
      },
      "text/plain": [
       "Building Documents: 0it [00:00, ?it/s]"
      ]
     },
     "metadata": {},
     "output_type": "display_data"
    },
    {
     "data": {
      "application/vnd.jupyter.widget-view+json": {
       "model_id": "91e38d27d81f47c0bd3ac63dee300aa6",
       "version_major": 2,
       "version_minor": 0
      },
      "text/plain": [
       "Batches:   0%|          | 0/635 [00:00<?, ?it/s]"
      ]
     },
     "metadata": {},
     "output_type": "display_data"
    },
    {
     "name": "stdout",
     "output_type": "stream",
     "text": [
      "What is the converted mana cost of Acquisitions Expert?\n"
     ]
    },
    {
     "data": {
      "application/vnd.jupyter.widget-view+json": {
       "model_id": "4b0db7bb3d254e49b25d28d719e68425",
       "version_major": 2,
       "version_minor": 0
      },
      "text/plain": [
       "Batches:   0%|          | 0/1 [00:00<?, ?it/s]"
      ]
     },
     "metadata": {},
     "output_type": "display_data"
    },
    {
     "name": "stderr",
     "output_type": "stream",
     "text": [
      "The attention mask is not set and cannot be inferred from input because pad token is same as eos token. As a consequence, you may observe unexpected behavior. Please pass your input's `attention_mask` to obtain reliable results.\n"
     ]
    },
    {
     "name": "stdout",
     "output_type": "stream",
     "text": [
      "2\n",
      "What is the converted mana cost of Loch Korrigan?\n"
     ]
    },
    {
     "data": {
      "application/vnd.jupyter.widget-view+json": {
       "model_id": "e1bd193fae104d76bd7c3dc24b149323",
       "version_major": 2,
       "version_minor": 0
      },
      "text/plain": [
       "Batches:   0%|          | 0/1 [00:00<?, ?it/s]"
      ]
     },
     "metadata": {},
     "output_type": "display_data"
    },
    {
     "name": "stdout",
     "output_type": "stream",
     "text": [
      "1\n",
      "What is the type of Loch Korrigan?\n"
     ]
    },
    {
     "data": {
      "application/vnd.jupyter.widget-view+json": {
       "model_id": "760b35596ca24c158c14cdc53573d48e",
       "version_major": 2,
       "version_minor": 0
      },
      "text/plain": [
       "Batches:   0%|          | 0/1 [00:00<?, ?it/s]"
      ]
     },
     "metadata": {},
     "output_type": "display_data"
    },
    {
     "name": "stdout",
     "output_type": "stream",
     "text": [
      "Creature — Spirit\n",
      "What is the text of Loch Korrigan?\n"
     ]
    },
    {
     "data": {
      "application/vnd.jupyter.widget-view+json": {
       "model_id": "7e96e01d4b8b44da99bc6dff1a750ae8",
       "version_major": 2,
       "version_minor": 0
      },
      "text/plain": [
       "Batches:   0%|          | 0/1 [00:00<?, ?it/s]"
      ]
     },
     "metadata": {},
     "output_type": "display_data"
    },
    {
     "name": "stdout",
     "output_type": "stream",
     "text": [
      "{U/B}: Loch Korrigan gets +1/+1 until end of turn.\n",
      "What is the text of Tarmogoyf?\n"
     ]
    },
    {
     "data": {
      "application/vnd.jupyter.widget-view+json": {
       "model_id": "4ede5222046244e680f5215e16d56631",
       "version_major": 2,
       "version_minor": 0
      },
      "text/plain": [
       "Batches:   0%|          | 0/1 [00:00<?, ?it/s]"
      ]
     },
     "metadata": {},
     "output_type": "display_data"
    },
    {
     "name": "stdout",
     "output_type": "stream",
     "text": [
      "Tarmogoyf's power is equal to the number of card types among cards in all graveyards and its toughness is equal to that number plus 1.\n",
      "What is the type of Ajani, Nacatl Pariah\n"
     ]
    },
    {
     "data": {
      "application/vnd.jupyter.widget-view+json": {
       "model_id": "a86f0324ba71409e85359c432ce91728",
       "version_major": 2,
       "version_minor": 0
      },
      "text/plain": [
       "Batches:   0%|          | 0/1 [00:00<?, ?it/s]"
      ]
     },
     "metadata": {},
     "output_type": "display_data"
    },
    {
     "name": "stdout",
     "output_type": "stream",
     "text": [
      "Legendary Creature — Cat Warrior\n",
      "What is the text of Ajani, Nacatl Pariah\n"
     ]
    },
    {
     "data": {
      "application/vnd.jupyter.widget-view+json": {
       "model_id": "e93f26c948a74cc28b112ea2a1f54225",
       "version_major": 2,
       "version_minor": 0
      },
      "text/plain": [
       "Batches:   0%|          | 0/1 [00:00<?, ?it/s]"
      ]
     },
     "metadata": {},
     "output_type": "display_data"
    },
    {
     "name": "stdout",
     "output_type": "stream",
     "text": [
      "[+2]: Put a +1/+1 counter on each Cat you control.\\n[0]: Create a 2/1 white Cat Warrior creature token. When you do, if you control a red permanent other than Ajani, Nacatl Avenger, he deals damage equal to the number of creatures you control to any target.\\n[−4]: Each opponent chooses an artifact, a creature, an enchantment, and a planeswalker from among the nonland permanents they control, then sacrifices the rest.\n",
      "What is the cmc of Ajani, Nacatl Pariah\n"
     ]
    },
    {
     "data": {
      "application/vnd.jupyter.widget-view+json": {
       "model_id": "65265716bcc54c7c988c8970c1027c30",
       "version_major": 2,
       "version_minor": 0
      },
      "text/plain": [
       "Batches:   0%|          | 0/1 [00:00<?, ?it/s]"
      ]
     },
     "metadata": {},
     "output_type": "display_data"
    },
    {
     "name": "stdout",
     "output_type": "stream",
     "text": [
      "2\n",
      "What is the text of Ajani, Nacatl Avenger\n"
     ]
    },
    {
     "data": {
      "application/vnd.jupyter.widget-view+json": {
       "model_id": "bfaad63fb8a146e380216d7e86ae3db5",
       "version_major": 2,
       "version_minor": 0
      },
      "text/plain": [
       "Batches:   0%|          | 0/1 [00:00<?, ?it/s]"
      ]
     },
     "metadata": {},
     "output_type": "display_data"
    },
    {
     "name": "stdout",
     "output_type": "stream",
     "text": [
      "[+2]: Put a +1/+1 counter on each Cat you control.\\n[0]: Create a 2/1 white Cat Warrior creature token. When you do, if you control a red permanent other than Ajani, Nacatl Avenger, he deals damage equal to the number of creatures you control to any target.\\n[−4]: Each opponent chooses an artifact, a creature, an enchantment, and a planeswalker from among the nonland permanents they control, then sacrifices the rest.\n",
      "What is the type of Ajani, Nacatl Avenger\n"
     ]
    },
    {
     "data": {
      "application/vnd.jupyter.widget-view+json": {
       "model_id": "27ce7ad99ceb46b983ab8644c5cff59d",
       "version_major": 2,
       "version_minor": 0
      },
      "text/plain": [
       "Batches:   0%|          | 0/1 [00:00<?, ?it/s]"
      ]
     },
     "metadata": {},
     "output_type": "display_data"
    },
    {
     "name": "stdout",
     "output_type": "stream",
     "text": [
      "Legendary Creature — Cat Warrior\n"
     ]
    }
   ],
   "source": [
    "import logging\n",
    "import colorlog\n",
    "from pathlib import Path\n",
    "\n",
    "# handler = colorlog.StreamHandler()\n",
    "# fmt = \"%(log_color)s%(levelname)s:%(name)s:%(message)s\"\n",
    "# formatter = colorlog.ColoredFormatter(\n",
    "#     fmt,\n",
    "#     log_colors={\n",
    "#         \"DEBUG\": \"purple\",\n",
    "#         \"INFO\": \"green\",\n",
    "#         \"WARNING\": \"yellow\",\n",
    "#         \"ERROR\": \"red\",\n",
    "#         \"CRITICAL\": \"red,bg_white\",\n",
    "#     },\n",
    "# )\n",
    "# handler.setFormatter(formatter)\n",
    "# logging.basicConfig(level=logging.DEBUG, handlers=[handler])\n",
    "\n",
    "from mtg_ai.ai import MTGAIRunner\n",
    "\n",
    "ai_model_name: str = \"./results\"\n",
    "rag_embedding_model_name: str = \"sentence-transformers/all-MiniLM-L6-v2\"\n",
    "runner = MTGAIRunner(\n",
    "    ai_model_name=ai_model_name, \n",
    "    rag_embedding_model_name=rag_embedding_model_name\n",
    ")\n",
    "\n",
    "test_questions = [\n",
    "    \"What is the converted mana cost of Acquisitions Expert?\",\n",
    "    \"What is the converted mana cost of Loch Korrigan?\",\n",
    "    \"What is the type of Loch Korrigan?\",\n",
    "    \"What is the text of Loch Korrigan?\",\n",
    "    \"What is the text of Tarmogoyf?\",\n",
    "    \"What is the type of Ajani, Nacatl Pariah\",\n",
    "    \"What is the text of Ajani, Nacatl Pariah\",\n",
    "    \"What is the cmc of Ajani, Nacatl Pariah\",\n",
    "    \"What is the text of Ajani, Nacatl Avenger\",\n",
    "    \"What is the type of Ajani, Nacatl Avenger\",\n",
    "]\n",
    "max_new_tokens = 500\n",
    "top_k = 3\n",
    "\n",
    "for tq in test_questions:\n",
    "    print(tq)\n",
    "    runner.run(tq, max_new_tokens=500, filters=None, top_k=3)"
   ]
  },
  {
   "cell_type": "markdown",
   "metadata": {},
   "source": [
    "# Experimenting "
   ]
  },
  {
   "cell_type": "markdown",
   "metadata": {},
   "source": []
  }
 ],
 "metadata": {
  "kernelspec": {
   "display_name": "dev",
   "language": "python",
   "name": "python3"
  },
  "language_info": {
   "codemirror_mode": {
    "name": "ipython",
    "version": 3
   },
   "file_extension": ".py",
   "mimetype": "text/x-python",
   "name": "python",
   "nbconvert_exporter": "python",
   "pygments_lexer": "ipython3",
   "version": "3.11.10"
  }
 },
 "nbformat": 4,
 "nbformat_minor": 2
}
