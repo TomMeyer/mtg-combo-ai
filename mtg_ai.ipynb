{
 "cells": [
  {
   "cell_type": "code",
   "execution_count": 2,
   "metadata": {},
   "outputs": [],
   "source": [
    "%reload_ext autoreload\n",
    "%autoreload 2"
   ]
  },
  {
   "cell_type": "code",
   "execution_count": 1,
   "metadata": {},
   "outputs": [
    {
     "name": "stdout",
     "output_type": "stream",
     "text": [
      "🦥 Unsloth: Will patch your computer to enable 2x faster free finetuning.\n"
     ]
    }
   ],
   "source": [
    "\n",
    "from mtg_ai.cards import MTGDatabase\n",
    "import numpy as np\n",
    "import pandas as pd"
   ]
  },
  {
   "cell_type": "markdown",
   "metadata": {},
   "source": [
    "# Setup colored logging"
   ]
  },
  {
   "cell_type": "code",
   "execution_count": 2,
   "metadata": {},
   "outputs": [],
   "source": [
    "import logging\n",
    "import colorlog\n",
    "handler = colorlog.StreamHandler()\n",
    "fmt = \"%(log_color)s%(levelname)s:%(name)s:%(message)s\"\n",
    "formatter = colorlog.ColoredFormatter(\n",
    "    fmt,\n",
    "    log_colors={\n",
    "        \"DEBUG\": \"purple\",\n",
    "        \"INFO\": \"green\",\n",
    "        \"WARNING\": \"yellow\",\n",
    "        \"ERROR\": \"red\",\n",
    "        \"CRITICAL\": \"red,bg_white\",\n",
    "    },\n",
    ")\n",
    "handler.setFormatter(formatter)\n",
    "logging.basicConfig(level=logging.DEBUG, handlers=[handler])\n",
    "logger = logging.getLogger(\"mtg-ai\")\n",
    "logger.propagate = True"
   ]
  },
  {
   "cell_type": "markdown",
   "metadata": {},
   "source": [
    "# Dataset Builder"
   ]
  },
  {
   "cell_type": "code",
   "execution_count": 3,
   "metadata": {},
   "outputs": [
    {
     "name": "stderr",
     "output_type": "stream",
     "text": [
      "100%|██████████| 7/7 [00:02<00:00,  3.13it/s]\n"
     ]
    },
    {
     "name": "stdout",
     "output_type": "stream",
     "text": [
      "Finished creating question answer dataset in 3.333371639251709 seconds | file size: 20.98 MB\n"
     ]
    }
   ],
   "source": [
    "from mtg_ai.cards.training_data_builder import build_question_answer_datasets, load_mtg_dataset\n",
    "from mtg_ai.cards import MTGDatabase\n",
    "data = MTGDatabase()\n",
    "build_question_answer_datasets(data, recreate=True)\n"
   ]
  },
  {
   "cell_type": "markdown",
   "metadata": {},
   "source": [
    "# Training"
   ]
  },
  {
   "cell_type": "code",
   "execution_count": 4,
   "metadata": {},
   "outputs": [
    {
     "name": "stdout",
     "output_type": "stream",
     "text": [
      "==((====))==  Unsloth 2024.10.0: Fast Llama patching. Transformers = 4.44.2.\n",
      "   \\\\   /|    GPU: NVIDIA GeForce RTX 3080. Max memory: 12.0 GB. Platform = Linux.\n",
      "O^O/ \\_/ \\    Pytorch: 2.4.1. CUDA = 8.6. CUDA Toolkit = 12.1.\n",
      "\\        /    Bfloat16 = TRUE. FA [Xformers = 0.0.28.post1. FA2 = False]\n",
      " \"-____-\"     Free Apache license: http://github.com/unslothai/unsloth\n"
     ]
    },
    {
     "name": "stderr",
     "output_type": "stream",
     "text": [
      "Unsloth 2024.10.0 patched 28 layers with 28 QKV layers, 28 O layers and 28 MLP layers.\n"
     ]
    },
    {
     "ename": "AttributeError",
     "evalue": "module 'datetime' has no attribute 'now'",
     "output_type": "error",
     "traceback": [
      "\u001b[0;31m---------------------------------------------------------------------------\u001b[0m",
      "\u001b[0;31mAttributeError\u001b[0m                            Traceback (most recent call last)",
      "Cell \u001b[0;32mIn[4], line 10\u001b[0m\n\u001b[1;32m      7\u001b[0m gguf_file \u001b[38;5;241m=\u001b[39m \u001b[38;5;28;01mNone\u001b[39;00m \u001b[38;5;66;03m#model.gguf_file\u001b[39;00m\n\u001b[1;32m      8\u001b[0m ai_trainer \u001b[38;5;241m=\u001b[39m MTGCardAITrainer(model_name\u001b[38;5;241m=\u001b[39mmodel\u001b[38;5;241m.\u001b[39mvalue, gguf_file\u001b[38;5;241m=\u001b[39mgguf_file)\n\u001b[0;32m---> 10\u001b[0m \u001b[43mai_trainer\u001b[49m\u001b[38;5;241;43m.\u001b[39;49m\u001b[43mtrain\u001b[49m\u001b[43m(\u001b[49m\u001b[43mresume_from_checkpoint\u001b[49m\u001b[38;5;241;43m=\u001b[39;49m\u001b[38;5;28;43;01mFalse\u001b[39;49;00m\u001b[43m)\u001b[49m\n",
      "File \u001b[0;32m~/src/ai/mtg_ai/src/mtg_ai/ai/ai_training.py:192\u001b[0m, in \u001b[0;36mMTGCardAITrainer.train\u001b[0;34m(self, resume_from_checkpoint)\u001b[0m\n\u001b[1;32m    189\u001b[0m logger\u001b[38;5;241m.\u001b[39minfo(\u001b[38;5;124m\"\u001b[39m\u001b[38;5;124mStarting training\u001b[39m\u001b[38;5;124m\"\u001b[39m)\n\u001b[1;32m    190\u001b[0m logger\u001b[38;5;241m.\u001b[39minfo(\u001b[38;5;124mf\u001b[39m\u001b[38;5;124m\"\u001b[39m\u001b[38;5;124mTraining \u001b[39m\u001b[38;5;132;01m{\u001b[39;00m\u001b[38;5;28mself\u001b[39m\u001b[38;5;241m.\u001b[39mmodel\u001b[38;5;132;01m}\u001b[39;00m\u001b[38;5;124m for \u001b[39m\u001b[38;5;132;01m{\u001b[39;00m\u001b[38;5;28mself\u001b[39m\u001b[38;5;241m.\u001b[39mnum_epochs\u001b[38;5;132;01m}\u001b[39;00m\u001b[38;5;124m epochs\u001b[39m\u001b[38;5;124m\"\u001b[39m)\n\u001b[0;32m--> 192\u001b[0m trainer \u001b[38;5;241m=\u001b[39m \u001b[38;5;28;43mself\u001b[39;49m\u001b[38;5;241;43m.\u001b[39;49m\u001b[43mbuild_trainer\u001b[49m\u001b[43m(\u001b[49m\u001b[43m)\u001b[49m\n\u001b[1;32m    194\u001b[0m \u001b[38;5;28;01mif\u001b[39;00m logger\u001b[38;5;241m.\u001b[39mlevel \u001b[38;5;241m==\u001b[39m DEBUG:\n\u001b[1;32m    195\u001b[0m     logger\u001b[38;5;241m.\u001b[39mdebug(\n\u001b[1;32m    196\u001b[0m         \u001b[38;5;124mf\u001b[39m\u001b[38;5;124m\"\u001b[39m\u001b[38;5;124mCheck our dataset applied masking: \u001b[39m\u001b[38;5;132;01m{\u001b[39;00m\u001b[38;5;28mself\u001b[39m\u001b[38;5;241m.\u001b[39mtokenizer\u001b[38;5;241m.\u001b[39mdecode(trainer\u001b[38;5;241m.\u001b[39mtrain_dataset[\u001b[38;5;241m5\u001b[39m][\u001b[38;5;124m'\u001b[39m\u001b[38;5;124minput_ids\u001b[39m\u001b[38;5;124m'\u001b[39m])\u001b[38;5;132;01m}\u001b[39;00m\u001b[38;5;124m\"\u001b[39m\n\u001b[1;32m    197\u001b[0m     )\n",
      "File \u001b[0;32m~/src/ai/mtg_ai/src/mtg_ai/ai/ai_training.py:151\u001b[0m, in \u001b[0;36mMTGCardAITrainer.build_trainer\u001b[0;34m(self)\u001b[0m\n\u001b[1;32m    132\u001b[0m \u001b[38;5;28;01mdef\u001b[39;00m \u001b[38;5;21mbuild_trainer\u001b[39m(\u001b[38;5;28mself\u001b[39m) \u001b[38;5;241m-\u001b[39m\u001b[38;5;241m>\u001b[39m SFTTrainer:\n\u001b[1;32m    133\u001b[0m     logger\u001b[38;5;241m.\u001b[39minfo(\u001b[38;5;124mf\u001b[39m\u001b[38;5;124m\"\u001b[39m\u001b[38;5;124mCan use bfloat16: \u001b[39m\u001b[38;5;132;01m{\u001b[39;00mis_bfloat16_supported()\u001b[38;5;132;01m}\u001b[39;00m\u001b[38;5;124m\"\u001b[39m)\n\u001b[1;32m    134\u001b[0m     training_args \u001b[38;5;241m=\u001b[39m TrainingArguments(\n\u001b[1;32m    135\u001b[0m         per_device_train_batch_size\u001b[38;5;241m=\u001b[39m\u001b[38;5;241m32\u001b[39m,\n\u001b[1;32m    136\u001b[0m         per_device_eval_batch_size\u001b[38;5;241m=\u001b[39m\u001b[38;5;241m8\u001b[39m,\n\u001b[1;32m    137\u001b[0m         gradient_accumulation_steps\u001b[38;5;241m=\u001b[39m\u001b[38;5;241m2\u001b[39m,\n\u001b[1;32m    138\u001b[0m         warmup_steps\u001b[38;5;241m=\u001b[39m\u001b[38;5;241m5\u001b[39m,\n\u001b[1;32m    139\u001b[0m         num_train_epochs\u001b[38;5;241m=\u001b[39m\u001b[38;5;241m1\u001b[39m,  \u001b[38;5;66;03m# Set this for 1 full training run.\u001b[39;00m\n\u001b[1;32m    140\u001b[0m         max_steps\u001b[38;5;241m=\u001b[39m\u001b[38;5;241m-\u001b[39m\u001b[38;5;241m1\u001b[39m,\n\u001b[1;32m    141\u001b[0m         learning_rate\u001b[38;5;241m=\u001b[39m\u001b[38;5;241m2e-4\u001b[39m,\n\u001b[1;32m    142\u001b[0m         fp16\u001b[38;5;241m=\u001b[39m\u001b[38;5;129;01mnot\u001b[39;00m is_bfloat16_supported(),\n\u001b[1;32m    143\u001b[0m         bf16\u001b[38;5;241m=\u001b[39mis_bfloat16_supported(),\n\u001b[1;32m    144\u001b[0m         optim\u001b[38;5;241m=\u001b[39m\u001b[38;5;124m\"\u001b[39m\u001b[38;5;124madamw_8bit\u001b[39m\u001b[38;5;124m\"\u001b[39m,\n\u001b[1;32m    145\u001b[0m         weight_decay\u001b[38;5;241m=\u001b[39m\u001b[38;5;241m0.01\u001b[39m,\n\u001b[1;32m    146\u001b[0m         lr_scheduler_type\u001b[38;5;241m=\u001b[39m\u001b[38;5;124m\"\u001b[39m\u001b[38;5;124mlinear\u001b[39m\u001b[38;5;124m\"\u001b[39m,\n\u001b[1;32m    147\u001b[0m         seed\u001b[38;5;241m=\u001b[39m\u001b[38;5;241m3407\u001b[39m,\n\u001b[1;32m    148\u001b[0m         logging_steps\u001b[38;5;241m=\u001b[39m\u001b[38;5;241m25\u001b[39m,\n\u001b[1;32m    149\u001b[0m         output_dir\u001b[38;5;241m=\u001b[39m\u001b[38;5;124m\"\u001b[39m\u001b[38;5;124moutputs\u001b[39m\u001b[38;5;124m\"\u001b[39m,\n\u001b[1;32m    150\u001b[0m         log_level\u001b[38;5;241m=\u001b[39m\u001b[38;5;124m\"\u001b[39m\u001b[38;5;124minfo\u001b[39m\u001b[38;5;124m\"\u001b[39m,\n\u001b[0;32m--> 151\u001b[0m         logging_dir\u001b[38;5;241m=\u001b[39m\u001b[38;5;124mf\u001b[39m\u001b[38;5;124m\"\u001b[39m\u001b[38;5;124m./logs/\u001b[39m\u001b[38;5;132;01m{\u001b[39;00m\u001b[38;5;28mself\u001b[39m\u001b[38;5;241m.\u001b[39mmodel_name\u001b[38;5;132;01m}\u001b[39;00m\u001b[38;5;124m/\u001b[39m\u001b[38;5;132;01m{\u001b[39;00m\u001b[43mdatetime\u001b[49m\u001b[38;5;241;43m.\u001b[39;49m\u001b[43mnow\u001b[49m()\u001b[38;5;241m.\u001b[39mstrftime(\u001b[38;5;124m'\u001b[39m\u001b[38;5;124m%\u001b[39m\u001b[38;5;124mY\u001b[39m\u001b[38;5;124m%\u001b[39m\u001b[38;5;124mm\u001b[39m\u001b[38;5;132;01m%d\u001b[39;00m\u001b[38;5;124m-\u001b[39m\u001b[38;5;124m%\u001b[39m\u001b[38;5;124mH\u001b[39m\u001b[38;5;124m%\u001b[39m\u001b[38;5;124mM\u001b[39m\u001b[38;5;124m%\u001b[39m\u001b[38;5;124mS\u001b[39m\u001b[38;5;124m'\u001b[39m)\u001b[38;5;132;01m}\u001b[39;00m\u001b[38;5;124m\"\u001b[39m,\n\u001b[1;32m    152\u001b[0m         report_to\u001b[38;5;241m=\u001b[39m\u001b[38;5;124m\"\u001b[39m\u001b[38;5;124mtensorboard\u001b[39m\u001b[38;5;124m\"\u001b[39m,\n\u001b[1;32m    153\u001b[0m         push_to_hub\u001b[38;5;241m=\u001b[39m\u001b[38;5;28;01mFalse\u001b[39;00m,\n\u001b[1;32m    154\u001b[0m     )\n\u001b[1;32m    156\u001b[0m     model \u001b[38;5;241m=\u001b[39m \u001b[38;5;28mself\u001b[39m\u001b[38;5;241m.\u001b[39mmodel\n\u001b[1;32m    157\u001b[0m     tokenizer \u001b[38;5;241m=\u001b[39m \u001b[38;5;28mself\u001b[39m\u001b[38;5;241m.\u001b[39mdata_loader\u001b[38;5;241m.\u001b[39mtokenizer\n",
      "\u001b[0;31mAttributeError\u001b[0m: module 'datetime' has no attribute 'now'"
     ]
    }
   ],
   "source": [
    "from mtg_ai.ai import MTGCardAITrainer, ModelAndTokenizer\n",
    "\n",
    "model = ModelAndTokenizer.UNSLOTH_LLAMA_3_2_3B_INSTRUCT_Q8\n",
    "\n",
    "# dataset = \"data/question_answer_dataset.csv\"\n",
    "# loader = MTGCardAITrainingDatasetLoader(dataset, model.tokenizer)\n",
    "gguf_file = None #model.gguf_file\n",
    "ai_trainer = MTGCardAITrainer(model_name=model.value, gguf_file=gguf_file)\n",
    "\n",
    "ai_trainer.train(resume_from_checkpoint=False)"
   ]
  },
  {
   "cell_type": "markdown",
   "metadata": {},
   "source": [
    "# Combine Lora with model"
   ]
  },
  {
   "cell_type": "code",
   "execution_count": null,
   "metadata": {},
   "outputs": [],
   "source": [
    "from pathlib import Path\n",
    "\n",
    "from mtg_ai.ai import ModelAndTokenizer, save_combined_model\n",
    "\n",
    "model_name = ModelAndTokenizer.BARTOWSKI_LLAMA_3_2_8B_INSTRUCT_Q4_K_L\n",
    "model_dir = Path(\"./results\").resolve()\n",
    "\n",
    "save_combined_model(model_name=model_name.value, tokenizer_name=model_name.tokenizer, gguf_file=model_name.gguf_file, model_dir=model_dir)"
   ]
  },
  {
   "cell_type": "markdown",
   "metadata": {},
   "source": [
    "# Inference"
   ]
  },
  {
   "cell_type": "code",
   "execution_count": null,
   "metadata": {},
   "outputs": [],
   "source": [
    "from typing import cast\n",
    "\n",
    "import torch\n",
    "from peft import PeftModelForCausalLM\n",
    "from unsloth import FastLanguageModel\n",
    "from unsloth.chat_templates import get_chat_template\n",
    "\n",
    "from mtg_ai.ai import ModelAndTokenizer\n",
    "\n",
    "model_name = ModelAndTokenizer.UNSLOTH_LLAMA_3_2_3B_INSTRUCT_Q8\n",
    "model, tokenizer = FastLanguageModel.from_pretrained(\n",
    "    model_name = \"./results/\", # YOUR MODEL YOU USED FOR TRAINING\n",
    "    max_seq_length = 2048,\n",
    "    dtype = torch.bfloat16,\n",
    "    load_in_4bit = True,\n",
    ")\n",
    "model = cast(PeftModelForCausalLM, model)\n",
    "model.to(\"cuda\")\n",
    "FastLanguageModel.for_inference(model) # Enable native 2x faster inference\n",
    "print(type(tokenizer))\n",
    "\n",
    "system_prompt = \"\"\"\n",
    "    You are a knowledgeable assistant trained on Magic: The Gathering cards. Your goal is to provide accurate and concise information about Magic cards when asked. Always follow these guidelines:\n",
    " \n",
    "    1. When asked about specific card attributes, such as toughness, power, mana cost, or abilities, provide clear and factual information.\n",
    "    2. If the query involves a combination of attributes (like power and toughness), list both in a structured format.\n",
    "    3. For combo-related queries, suggest relevant and well-known card interactions based on color, mana cost, and abilities.\n",
    "    4. If you are unsure or the information isn't available, provide the most relevant possible answer based on your knowledge.\n",
    "    5. Maintain a professional and helpful tone in all responses.\n",
    "    6. For factual questions, such as \"What is the toughness of Serra Angel?\", respond directly with the correct value in a sentence.\n",
    "    7. Always prioritize accuracy over creativity when answering card-specific queries.\n",
    "\"\"\"\n",
    "\n",
    "messages = [\n",
    "    {\"role\":\"system\", \"content\": system_prompt},\n",
    "    {\"role\": \"user\", \"content\": \"What is 5 + 5?\"},\n",
    "]\n",
    "inputs = tokenizer.apply_chat_template(\n",
    "    messages,\n",
    "    tokenize = True,\n",
    "    add_generation_prompt = True, # Must add for generation\n",
    "    return_tensors = \"pt\",\n",
    ").to(\"cuda\")\n",
    "\n",
    "from transformers import TextStreamer\n",
    "text_streamer = TextStreamer(tokenizer, skip_prompt = True)\n",
    "_ = model.generate(input_ids = inputs, streamer = text_streamer, max_new_tokens = 128,\n",
    "                   use_cache = True, temperature = .1, min_p = 0.1)"
   ]
  },
  {
   "cell_type": "code",
   "execution_count": null,
   "metadata": {},
   "outputs": [],
   "source": [
    "from pathlib import Path\n",
    "\n",
    "from mtg_ai.ai import ModelAndTokenizer, MTGCardAI\n",
    "\n",
    "model_path = Path(\"./results/merged_model\").resolve()\n",
    "m = ModelAndTokenizer.UNSLOTH_LLAMA_3_2_3B_INSTRUCT_Q8\n",
    "\n",
    "ai = MTGCardAI(model_name=m.value, gguf_file=m.gguf_file, tokenizer_name=m.tokenizer, adapter=\"./results/\")\n",
    "# ai = MTGCardAI(model_name=m.value, gguf_file=m.gguf_file, tokenizer_name=m.tokenizer)\n",
    "ai.load_models()\n",
    "test_questions = [\n",
    "    \"What is the converted mana cost of Acquisitions Expert?\",\n",
    "    \"What is the converted mana cost of Sol Ring?\",\n",
    "    \"What is the type of Sol Ring?\",\n",
    "]\n",
    "logging.info(\"---------------------------\")\n",
    "for tq in test_questions:\n",
    "    logging.info(\"##################################\")\n",
    "    response = ai.run(prompt=tq, max_new_tokens=200)\n",
    "    logging.info(f\"Response:\\n{response}\")"
   ]
  },
  {
   "cell_type": "markdown",
   "metadata": {},
   "source": [
    "# Experimenting "
   ]
  },
  {
   "cell_type": "code",
   "execution_count": null,
   "metadata": {},
   "outputs": [],
   "source": []
  }
 ],
 "metadata": {
  "kernelspec": {
   "display_name": "dev",
   "language": "python",
   "name": "python3"
  },
  "language_info": {
   "codemirror_mode": {
    "name": "ipython",
    "version": 3
   },
   "file_extension": ".py",
   "mimetype": "text/x-python",
   "name": "python",
   "nbconvert_exporter": "python",
   "pygments_lexer": "ipython3",
   "version": "3.11.10"
  }
 },
 "nbformat": 4,
 "nbformat_minor": 2
}
