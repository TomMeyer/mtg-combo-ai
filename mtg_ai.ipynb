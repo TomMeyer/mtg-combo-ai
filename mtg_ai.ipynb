{
 "cells": [
  {
   "cell_type": "code",
   "execution_count": 2,
   "metadata": {},
   "outputs": [],
   "source": [
    "%reload_ext autoreload\n",
    "%autoreload 2"
   ]
  },
  {
   "cell_type": "markdown",
   "metadata": {},
   "source": [
    "# Setup colored logging"
   ]
  },
  {
   "cell_type": "code",
   "execution_count": 1,
   "metadata": {},
   "outputs": [],
   "source": [
    "import logging\n",
    "\n",
    "import colorlog\n",
    "\n",
    "handler = colorlog.StreamHandler()\n",
    "fmt = \"%(log_color)s%(levelname)s:%(name)s:%(message)s\"\n",
    "formatter = colorlog.ColoredFormatter(\n",
    "    fmt,\n",
    "    log_colors={\n",
    "        \"DEBUG\": \"purple\",\n",
    "        \"INFO\": \"green\",\n",
    "        \"WARNING\": \"yellow\",\n",
    "        \"ERROR\": \"red\",\n",
    "        \"CRITICAL\": \"red,bg_white\",\n",
    "    },\n",
    ")\n",
    "handler.setFormatter(formatter)\n",
    "logging.basicConfig(level=logging.INFO, handlers=[handler])\n",
    "logger = logging.getLogger(\"mtg-ai\")\n",
    "logger.propagate = True\n",
    "\n",
    "\n",
    "import pandas as pd\n",
    "pd.set_option('display.max_columns', 500)\n",
    "pd.options.display.max_columns = 500\n",
    "pd.options.display.max_rows = 500\n",
    "pd.options.display.max_colwidth = 500"
   ]
  },
  {
   "cell_type": "markdown",
   "metadata": {},
   "source": [
    "# Card Dataframe"
   ]
  },
  {
   "cell_type": "code",
   "execution_count": null,
   "metadata": {},
   "outputs": [],
   "source": [
    "from mtg_ai.cards import MTGDatabase\n",
    "from IPython.display import display\n",
    "database = MTGDatabase()\n",
    "\n",
    "print(database.df.layout.value_counts())\n",
    "\n",
    "display(database.df.loc[database.df.name == \"Bruna, the Fading Light // Brisela, Voice of Nightmares\"])\n",
    "display(database.df.loc[database.df.name == \"Gisela, the Broken Blade // Brisela, Voice of Nightmares\"])\n",
    "display(database.df.loc[database.df.name == \"Brisela, Voice of Nightmares\"])\n",
    "\n",
    "\n",
    "display(database.df.loc[database.df.name.str.contains(\"Ajani\")])"
   ]
  },
  {
   "cell_type": "markdown",
   "metadata": {},
   "source": [
    "# Dataset Builder"
   ]
  },
  {
   "cell_type": "code",
   "execution_count": null,
   "metadata": {},
   "outputs": [],
   "source": [
    "from mtg_ai.cards.training_data_builder import build_datasets\n",
    "\n",
    "build_datasets(all_merged=True)\n"
   ]
  },
  {
   "cell_type": "code",
   "execution_count": null,
   "metadata": {},
   "outputs": [],
   "source": [
    "from mtg_ai.cards import MTGDatasetLoader\n",
    "\n",
    "MTGDatasetLoader.load_dataset(\"all\")"
   ]
  },
  {
   "cell_type": "markdown",
   "metadata": {},
   "source": [
    "# Training"
   ]
  },
  {
   "cell_type": "markdown",
   "metadata": {},
   "source": [
    "### Train on all joined"
   ]
  },
  {
   "cell_type": "code",
   "execution_count": null,
   "metadata": {},
   "outputs": [],
   "source": [
    "from mtg_ai.ai import ModelAndTokenizer, MTGCardAITrainerPipeline\n",
    "from mtg_ai.cards.training_data_builder import QUESTION_ANSWER_FOLDER\n",
    "model = ModelAndTokenizer.UNSLOTH_LLAMA_3_2_3B_INSTRUCT_Q8\n",
    "\n",
    "training_pipeline = MTGCardAITrainerPipeline(base_model_name=model.value, dataset_directory=QUESTION_ANSWER_FOLDER)\n",
    "training_pipeline.train(\"all\", resume_from_checkpoint=False)"
   ]
  },
  {
   "cell_type": "markdown",
   "metadata": {},
   "source": [
    "### Train on cards"
   ]
  },
  {
   "cell_type": "code",
   "execution_count": null,
   "metadata": {},
   "outputs": [],
   "source": [
    "from mtg_ai.ai import ModelAndTokenizer, MTGCardAITrainerPipeline\n",
    "from mtg_ai.cards.training_data_builder import QUESTION_ANSWER_FOLDER\n",
    "model = ModelAndTokenizer.UNSLOTH_LLAMA_3_2_3B_INSTRUCT_Q8\n",
    "\n",
    "training_pipeline = MTGCardAITrainerPipeline(base_model_name=model.value, dataset_directory=QUESTION_ANSWER_FOLDER)\n",
    "training_pipeline.train(\"cards\", resume_from_checkpoint=True)"
   ]
  },
  {
   "cell_type": "markdown",
   "metadata": {},
   "source": [
    "### Train on rules"
   ]
  },
  {
   "cell_type": "code",
   "execution_count": null,
   "metadata": {},
   "outputs": [],
   "source": [
    "from mtg_ai.ai import ModelAndTokenizer, MTGCardAITrainerPipeline\n",
    "from mtg_ai.cards.training_data_builder import QUESTION_ANSWER_FOLDER\n",
    "\n",
    "model = ModelAndTokenizer.UNSLOTH_LLAMA_3_2_3B_INSTRUCT_Q8\n",
    "training_pipeline = MTGCardAITrainerPipeline(base_model_name=model.value, dataset_directory=QUESTION_ANSWER_FOLDER)\n",
    "training_pipeline.train(\"rules\", resume_from_checkpoint=False, learning_rate=1e-7, weight_decay=2e-8)"
   ]
  },
  {
   "cell_type": "markdown",
   "metadata": {},
   "source": [
    "### Train on combos"
   ]
  },
  {
   "cell_type": "code",
   "execution_count": null,
   "metadata": {},
   "outputs": [],
   "source": [
    "from mtg_ai.ai import ModelAndTokenizer, MTGCardAITrainerPipeline\n",
    "from mtg_ai.cards.training_data_builder import QUESTION_ANSWER_FOLDER\n",
    "\n",
    "model = ModelAndTokenizer.UNSLOTH_LLAMA_3_2_3B_INSTRUCT_Q8\n",
    "training_pipeline = MTGCardAITrainerPipeline(base_model_name=model.value, dataset_directory=QUESTION_ANSWER_FOLDER)\n",
    "training_pipeline.train(\"combos\", resume_from_checkpoint=False, learning_rate=1e-7, weight_decay=2e-8, train_batch_size=16, eval_batch_size=8, gradient_accumulation_steps=1)"
   ]
  },
  {
   "cell_type": "markdown",
   "metadata": {},
   "source": [
    "# Combine Lora with model"
   ]
  },
  {
   "cell_type": "code",
   "execution_count": null,
   "metadata": {},
   "outputs": [],
   "source": [
    "from pathlib import Path\n",
    "\n",
    "from mtg_ai.ai import ModelAndTokenizer, save_combined_model\n",
    "\n",
    "model_name = ModelAndTokenizer.BARTOWSKI_LLAMA_3_2_8B_INSTRUCT_Q4_K_L\n",
    "model_dir = Path(\"./results\").resolve()\n",
    "\n",
    "save_combined_model(\n",
    "    model_name=model_name.value,\n",
    "    tokenizer_name=model_name.tokenizer,\n",
    "    gguf_file=model_name.gguf_file,\n",
    "    model_dir=model_dir,\n",
    ")"
   ]
  },
  {
   "cell_type": "markdown",
   "metadata": {},
   "source": [
    "# Inference"
   ]
  },
  {
   "cell_type": "code",
   "execution_count": null,
   "metadata": {},
   "outputs": [],
   "source": [
    "%env TQDM_DISABLE = 1\n",
    "%env HAYSTACK_PROGRESS_BARS = 0\n",
    "\n",
    "import tqdm\n",
    "from pathlib import Path\n",
    "from functools import partialmethod\n",
    "\n",
    "import tqdm.auto\n",
    "# handler = colorlog.StreamHandler()\n",
    "# fmt = \"%(log_color)s%(levelname)s:%(name)s:%(message)s\"\n",
    "# formatter = colorlog.ColoredFormatter(\n",
    "#     fmt,\n",
    "#     log_colors={\n",
    "#         \"DEBUG\": \"purple\",\n",
    "#         \"INFO\": \"green\",\n",
    "#         \"WARNING\": \"yellow\",\n",
    "#         \"ERROR\": \"red\",\n",
    "#         \"CRITICAL\": \"red,bg_white\",\n",
    "#     },\n",
    "# )\n",
    "# handler.setFormatter(formatter)\n",
    "# logging.basicConfig(level=logging.DEBUG, handlers=[handler])\n",
    "\n",
    "from mtg_ai.utils import is_tqdm_disabled\n",
    "print(is_tqdm_disabled())\n",
    "from mtg_ai.ai import MTGAIRunner\n",
    "\n",
    "ai_model_name: str = \"./results/combos\"\n",
    "rag_embedding_model_name: str = \"sentence-transformers/all-MiniLM-L6-v2\"\n",
    "runner = MTGAIRunner(\n",
    "    ai_model_name=ai_model_name, rag_embedding_model_name=rag_embedding_model_name\n",
    ")\n",
    "\n",
    "test_questions = [\n",
    "    \"What is the converted mana cost of Acquisitions Expert?\",\n",
    "    \"What is the converted mana cost of Loch Korrigan?\",\n",
    "    \"What is the type of Loch Korrigan?\",\n",
    "    \"What is the text of Loch Korrigan?\",\n",
    "    \"What is the text of Tarmogoyf?\",\n",
    "    \"What is the type of Ajani, Nacatl Pariah\",\n",
    "    \"What is the text of Ajani, Nacatl Pariah\",\n",
    "    \"What is the cmc of Ajani, Nacatl Pariah\",\n",
    "    \"What is the text of Ajani, Nacatl Avenger\",\n",
    "    \"What is the type of Ajani, Nacatl Avenger\",\n",
    "    \"What is a Reversible cards work?\",\n",
    "    \"What can I combo with Ajani, Nacatl Avenger?\",\n",
    "]\n",
    "max_new_tokens = 500\n",
    "top_k = 3\n",
    "\n",
    "for tq in test_questions:\n",
    "    print()\n",
    "    print(tq)\n",
    "    for word in runner.run(tq, max_new_tokens=500, filters=None, top_k=3, stream_output=True, temperature=0.3):\n",
    "        if \"\\\\n\" in word:\n",
    "            print(word, flush=True)\n",
    "        else:\n",
    "            print(word, end=\"\", flush=True)\n",
    "    print()"
   ]
  },
  {
   "cell_type": "markdown",
   "metadata": {},
   "source": [
    "# Experimenting "
   ]
  },
  {
   "cell_type": "code",
   "execution_count": null,
   "metadata": {},
   "outputs": [],
   "source": [
    "from mtg_ai.cards.edh_combos import EDHComboDatabase\n",
    "\n",
    "edh_combos = EDHComboDatabase()"
   ]
  },
  {
   "cell_type": "code",
   "execution_count": 2,
   "metadata": {},
   "outputs": [],
   "source": [
    "import os\n",
    "os.getenv(\"TQDM_MININTERVAL\")"
   ]
  },
  {
   "cell_type": "code",
   "execution_count": null,
   "metadata": {},
   "outputs": [],
   "source": [
    "from mtg_ai.cards.edh_combos import EDHComboDatabase\n",
    "from mtg_ai.cards import MTGDatabase\n",
    "from mtg_ai.cards.training_data_builder import DataEntry\n",
    "from IPython.display import display\n",
    "edh_combos = EDHComboDatabase()\n",
    "\n",
    "database = MTGDatabase()\n",
    "\n",
    "zone_locations_to_text = {\n",
    "    \"B\": \"on the battlefield\",\n",
    "    \"G\": \"in the graveyard\",\n",
    "    \"H\": \"in your hand\",\n",
    "    \"L\": \"in the library\",\n",
    "    \"E\": \"exiled\",\n",
    "    \"C\": \"in the command zone\",\n",
    "}\n",
    "\n",
    "def build_cards_to_combo_question_answer_dataset(database: MTGDatabase, edh_combos: EDHComboDatabase):\n",
    "    result: list[DataEntry] = []\n",
    "    for combo in edh_combos:\n",
    "        \n",
    "        card_names_text = \", \".join(combo[\"cards\"][\"card_name\"].to_list())\n",
    "        \n",
    "        features = []\n",
    "        for _, feature_name in combo[\"features\"][\"feature_name\"].items():\n",
    "            if \"LTB\" in feature_name:\n",
    "                feature_name = feature_name.replace(\"LTB\", \"leaves the battlefield\")\n",
    "            elif \"ETB\" in feature_name:\n",
    "                feature_name = feature_name.replace(\"ETB\", \"enters the battlefield\")\n",
    "            features.append(f\"  - {feature_name}\")\n",
    "        features_text = \"\\n\".join(features)\n",
    "            \n",
    "        \n",
    "        steps = []\n",
    "        for i, step in  enumerate(combo[\"combo\"][\"steps\"].splitlines()):\n",
    "            steps.append(f\"  {i+1}. {step}\")\n",
    "        steps_text = \"\\n\".join(steps)\n",
    "        \n",
    "        question = f\"How can you create a combo with {card_names_text}?\"\n",
    "        answer = (\n",
    "            f\"This combo can be formed with {card_names_text}\\n\\n\"\n",
    "            f\"Color identity: {combo['combo']['identity']}\\n\"\n",
    "            \"\"\n",
    "            f\"Mana cost: {combo['combo']['manaNeeded']}\\n\"\n",
    "            \"\"\n",
    "            \"Steps:\\n\"\n",
    "            f\"{steps_text}\"\n",
    "            \"\\n\\n\"\n",
    "            \"Result:\\n\"\n",
    "            f\"{features_text}\"\n",
    "        )\n",
    "        \n",
    "        additional_prerequisites = []\n",
    "        if len(combo[\"cards\"][\"zone_locations\"].unique()) == 1:\n",
    "            zones = combo[\"cards\"][\"zone_locations\"].unique().tolist()\n",
    "            zone_text = zone_locations_to_text[zones[0][0]]\n",
    "            text = f\"  - All permanants must be {zone_text}\"\n",
    "            additional_prerequisites.append(text)\n",
    "        else:\n",
    "            for _, card in combo[\"cards\"].iterrows():\n",
    "                zones = card[\"zone_locations\"]\n",
    "                if len(zones) == 1:\n",
    "                    zone_text = zone_locations_to_text[zones[0]]\n",
    "                    text = f\"  - {card['card_name']} must be {zone_text}\"\n",
    "                    additional_prerequisites.append(text)\n",
    "                else:\n",
    "                    zone_text = \" or \".join([zone_locations_to_text[zone] for zone in zones])\n",
    "                    text = f\"  - {card['card_name']} must be {zone_text}\"\n",
    "                    additional_prerequisites.append(text)\n",
    "        \n",
    "        prerequisites = additional_prerequisites\n",
    "        if other_prerequisites := combo[\"combo\"][\"otherPrerequisites\"]:\n",
    "            other_prerequisites = other_prerequisites or \"\"\n",
    "            for prerequisite in other_prerequisites.splitlines():\n",
    "                prerequisites.append(f\"  - {prerequisite}\")\n",
    "        \n",
    "        if prerequisites:\n",
    "            other_prerequisites_text = \"\\n\".join(prerequisites)\n",
    "            answer += f\"\\n\\nOther prerequisites:\\n{other_prerequisites_text}\"\n",
    "        \n",
    "        result.append(DataEntry(question=question, answer=answer))\n",
    "    return result\n",
    "    \n",
    "result = build_cards_to_combo_question_answer_dataset(database, edh_combos)"
   ]
  },
  {
   "cell_type": "code",
   "execution_count": null,
   "metadata": {},
   "outputs": [],
   "source": [
    "len(result)"
   ]
  },
  {
   "cell_type": "code",
   "execution_count": null,
   "metadata": {},
   "outputs": [],
   "source": [
    "combo = edh_combos.get_combo(\"647-1069-1256-5499\")\n",
    "\n",
    "combo[\"cards\"][\"zone_locations\"].unique()[0][0]\n"
   ]
  },
  {
   "cell_type": "code",
   "execution_count": null,
   "metadata": {},
   "outputs": [],
   "source": [
    "v = edh_combos.get_combo(\"647-1069-1256-5499\")\n",
    "print(v[\"combo\"][\"otherPrerequisites\"])\n",
    "print()\n",
    "for i, step in  enumerate(v[\"combo\"][\"steps\"].splitlines()):\n",
    "    print(f\"{i+1}. {step}\")"
   ]
  },
  {
   "cell_type": "code",
   "execution_count": null,
   "metadata": {},
   "outputs": [],
   "source": [
    "edh_combos."
   ]
  },
  {
   "cell_type": "code",
   "execution_count": null,
   "metadata": {},
   "outputs": [],
   "source": []
  }
 ],
 "metadata": {
  "kernelspec": {
   "display_name": "dev",
   "language": "python",
   "name": "python3"
  },
  "language_info": {
   "codemirror_mode": {
    "name": "ipython",
    "version": 3
   },
   "file_extension": ".py",
   "mimetype": "text/x-python",
   "name": "python",
   "nbconvert_exporter": "python",
   "pygments_lexer": "ipython3",
   "version": "3.11.10"
  }
 },
 "nbformat": 4,
 "nbformat_minor": 2
}
